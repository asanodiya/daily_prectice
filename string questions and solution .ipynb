{
 "cells": [
  {
   "cell_type": "markdown",
   "id": "2530306a",
   "metadata": {},
   "source": [
    "# 1.Write a function that counts the number of occurrences of a specific character in a string."
   ]
  },
  {
   "cell_type": "code",
   "execution_count": 10,
   "id": "c90dbcc8",
   "metadata": {},
   "outputs": [
    {
     "name": "stdout",
     "output_type": "stream",
     "text": [
      "enter the stringi love my india\n",
      "enter the targeted stringia\n",
      "ia is 1 times\n"
     ]
    }
   ],
   "source": [
    "s=input('enter the string')\n",
    "st=input('enter the targeted string')\n",
    "count=0\n",
    "for i in range(len(s)-len(st)+1):\n",
    "    if s[i:len(st)+i]==st:\n",
    "        count+=1\n",
    "print(f'{st} is {count} times')"
   ]
  },
  {
   "cell_type": "markdown",
   "id": "d17adad9",
   "metadata": {},
   "source": [
    "# 2. Write a program to capitalize the first letter of each word in a sentence."
   ]
  },
  {
   "cell_type": "code",
   "execution_count": 22,
   "id": "61de9dfb",
   "metadata": {},
   "outputs": [
    {
     "name": "stdout",
     "output_type": "stream",
     "text": [
      "I Love My India\n"
     ]
    }
   ],
   "source": [
    "s='i love my india'\n",
    "c=s.title()\n",
    "print(c)"
   ]
  },
  {
   "cell_type": "markdown",
   "id": "156b0fc4",
   "metadata": {},
   "source": [
    "# 3. Create a program that takes a list of names and formats them into a comma-separated string with \"and\" before the last name (e.g., \"Alice, Bob, and Charlie\")."
   ]
  },
  {
   "cell_type": "code",
   "execution_count": 26,
   "id": "afabd7f6",
   "metadata": {},
   "outputs": [
    {
     "data": {
      "text/plain": [
       "['Alice,', 'Bob,', 'and', 'Charlie']"
      ]
     },
     "execution_count": 26,
     "metadata": {},
     "output_type": "execute_result"
    }
   ],
   "source": [
    "s3= \"Alice, Bob, and Charlie\"\n",
    "s3.split()"
   ]
  },
  {
   "cell_type": "code",
   "execution_count": 27,
   "id": "e885b284",
   "metadata": {},
   "outputs": [
    {
     "name": "stdout",
     "output_type": "stream",
     "text": [
      "Alice, Bob, and Charlie\n"
     ]
    }
   ],
   "source": [
    "def format_names(names):\n",
    "    if len(names) == 1:\n",
    "        return names[0]\n",
    "    elif len(names) == 2:\n",
    "        return f\"{names[0]} and {names[1]}\"\n",
    "    else:\n",
    "        formatted_names = ', '.join(names[:-1]) + f\", and {names[-1]}\"\n",
    "        return formatted_names\n",
    "\n",
    "# Example usage:\n",
    "name_list = [\"Alice\", \"Bob\", \"Charlie\"]\n",
    "formatted_string = format_names(name_list)\n",
    "print(formatted_string)\n"
   ]
  },
  {
   "cell_type": "markdown",
   "id": "a42abdb1",
   "metadata": {},
   "source": [
    "# 4. Write a Python function to calculate the length of a given string without using the len() function."
   ]
  },
  {
   "cell_type": "code",
   "execution_count": 29,
   "id": "02d963e3",
   "metadata": {},
   "outputs": [
    {
     "name": "stdout",
     "output_type": "stream",
     "text": [
      "8\n"
     ]
    }
   ],
   "source": [
    "s='avadhesh'\n",
    "count=0\n",
    "for i in s:\n",
    "    count+=1\n",
    "print(count) "
   ]
  },
  {
   "cell_type": "markdown",
   "id": "d5489070",
   "metadata": {},
   "source": [
    "# 5.  Write a function to count the number of vowels and consonants in a given string.    \"Avadhesh sanodiya\"\n"
   ]
  },
  {
   "cell_type": "code",
   "execution_count": 6,
   "id": "80cf175f",
   "metadata": {},
   "outputs": [
    {
     "data": {
      "text/plain": [
       "(3, 5)"
      ]
     },
     "execution_count": 6,
     "metadata": {},
     "output_type": "execute_result"
    }
   ],
   "source": [
    "def count_vowels_and_consonants(s):\n",
    "    vowels = \"AEIOUaeiou\"\n",
    "    consonants = \"BCDFGHJKLMNPQRSTVWXYZbcdfghjklmnpqrstvwxyz\"\n",
    "    \n",
    "    vowel_count = 0\n",
    "    consonant_count = 0\n",
    "    \n",
    "    for i in s:\n",
    "        if i in vowels:\n",
    "            vowel_count += 1\n",
    "        elif i in consonants:\n",
    "            consonant_count += 1\n",
    "    \n",
    "    return vowel_count, consonant_count\n",
    "\n",
    "s='avadhesh'\n",
    "count_vowels_and_consonants(s)"
   ]
  },
  {
   "cell_type": "code",
   "execution_count": null,
   "id": "07b11227",
   "metadata": {},
   "outputs": [],
   "source": []
  }
 ],
 "metadata": {
  "kernelspec": {
   "display_name": "Python 3 (ipykernel)",
   "language": "python",
   "name": "python3"
  },
  "language_info": {
   "codemirror_mode": {
    "name": "ipython",
    "version": 3
   },
   "file_extension": ".py",
   "mimetype": "text/x-python",
   "name": "python",
   "nbconvert_exporter": "python",
   "pygments_lexer": "ipython3",
   "version": "3.9.12"
  }
 },
 "nbformat": 4,
 "nbformat_minor": 5
}
