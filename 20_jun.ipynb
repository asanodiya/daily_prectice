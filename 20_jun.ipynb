{
  "nbformat": 4,
  "nbformat_minor": 0,
  "metadata": {
    "colab": {
      "provenance": []
    },
    "kernelspec": {
      "name": "python3",
      "display_name": "Python 3"
    },
    "language_info": {
      "name": "python"
    }
  },
  "cells": [
    {
      "cell_type": "markdown",
      "source": [
        "**hare i am extracting a list which is in a single list with the help of FOR LOOP of adding if eles condition **"
      ],
      "metadata": {
        "id": "SQRInZQlcLKH"
      }
    },
    {
      "cell_type": "code",
      "execution_count": 1,
      "metadata": {
        "id": "K5CObX8OZLM5"
      },
      "outputs": [],
      "source": [
        "l = [9,5,6,76,[345,67,45,34],'avo','raj']\n",
        "l1=[]\n",
        "l2=[]\n",
        "for i in l:\n",
        "       if type (i) ==list:\n",
        "        for j in i:\n",
        "            if type (j)==int:\n",
        "              l1.append(j)\n",
        "       elif type(i)== int:\n",
        "               l1.append(i)\n",
        "       else:\n",
        "           if type(i)== str:\n",
        "               l2.append(i)\n",
        "\n",
        ""
      ]
    },
    {
      "cell_type": "code",
      "source": [
        "l1\n"
      ],
      "metadata": {
        "colab": {
          "base_uri": "https://localhost:8080/"
        },
        "id": "iFyI-EvLZOgb",
        "outputId": "d0cef4a7-7498-425e-8bc0-be9b89c0b6e2"
      },
      "execution_count": 2,
      "outputs": [
        {
          "output_type": "execute_result",
          "data": {
            "text/plain": [
              "[9, 5, 6, 76, 345, 67, 45, 34]"
            ]
          },
          "metadata": {},
          "execution_count": 2
        }
      ]
    },
    {
      "cell_type": "code",
      "source": [
        "l2"
      ],
      "metadata": {
        "colab": {
          "base_uri": "https://localhost:8080/"
        },
        "id": "upaqH5bcZPqR",
        "outputId": "b668b86a-c510-4d44-8fcc-a06f7fd34125"
      },
      "execution_count": 3,
      "outputs": [
        {
          "output_type": "execute_result",
          "data": {
            "text/plain": [
              "['avo', 'raj']"
            ]
          },
          "metadata": {},
          "execution_count": 3
        }
      ]
    },
    {
      "cell_type": "code",
      "source": [],
      "metadata": {
        "id": "OT0pWZH7ZQjj"
      },
      "execution_count": null,
      "outputs": []
    }
  ]
}